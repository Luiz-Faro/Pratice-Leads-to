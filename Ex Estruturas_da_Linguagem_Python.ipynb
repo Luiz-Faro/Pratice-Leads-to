{
  "nbformat": 4,
  "nbformat_minor": 0,
  "metadata": {
    "colab": {
      "provenance": []
    },
    "kernelspec": {
      "name": "python3",
      "display_name": "Python 3"
    },
    "language_info": {
      "name": "python"
    }
  },
  "cells": [
    {
      "cell_type": "markdown",
      "source": [
        "RESOLUÇÃO DE CASES - CASE 1\n",
        "\n",
        "Questão 1 - Uma empresa te enviou 3 listas, uma representa a largura, outra representa a altura e a terceira representa a área em m2 de determinado terreno, todas estão ordenadas entretanto tem alguns valores faltantes que precisam ser preenchidos, preencha os valores faltantes: Todos os terrenos dessa empresa são retangulares e você pode utilizar a fórmula abaixo: \n",
        "\n",
        "a = b. h (área = largura * altura) \n",
        "\n",
        "Utilize as listas abaixo: \n",
        "\n",
        "area = [200,'null',720,1500,1000,275,'null',1200,2400,'null'] \n",
        "\n",
        "altura = ['null',30,40,30,10,25,33,'null',12,20] \n",
        "\n",
        "largura = [20,20,'null',50,100,'null',30,100,200,10]"
      ],
      "metadata": {
        "id": "jlzQ_54xw-OM"
      }
    },
    {
      "cell_type": "code",
      "source": [
        "#Declarando as listas do exercício\n",
        "area = [200,'null',720,1500,1000,275,'null',1200,2400,'null']\n",
        "\n",
        "altura = ['null',30,40,30,10,25,33,'null',12,20]\n",
        "\n",
        "largura = [20,20,'null',50,100,'null',30,100,200,10]"
      ],
      "metadata": {
        "id": "DZInUQek1h7u"
      },
      "execution_count": null,
      "outputs": []
    },
    {
      "cell_type": "code",
      "execution_count": null,
      "metadata": {
        "colab": {
          "base_uri": "https://localhost:8080/"
        },
        "id": "IDn1iFrNw9WT",
        "outputId": "8cb55af4-4637-4342-d932-cab5d633ca82"
      },
      "outputs": [
        {
          "output_type": "stream",
          "name": "stdout",
          "text": [
            "[200, 600, 720, 1500, 1000, 275, 990, 1200, 2400, 200]\n",
            "[20, 20, 18, 50, 100, 11, 30, 100, 200, 10]\n",
            "[10, 30, 40, 30, 10, 25, 33, 12, 12, 20]\n"
          ]
        }
      ],
      "source": [
        "def preenche (a,b,h): #declarando a função com parâmetros\n",
        "  area_full = [] #declarando as listas vazias nas quais eu vou armazenar o valor depois da verificação\n",
        "  largura_full = []\n",
        "  altura_full = []\n",
        "\n",
        "  for area,largura,altura in zip(a,b,h): #zipando o valor das variáveis em parâmetros da função\n",
        "    if type(area)!= int: #verificando se o valor dentro da lista é diferente de \"null\" lembrando que as listas não estão completamente preenchidas\n",
        "      area_full.append(int(largura*altura)) #fazendo o inverso da conta pra descobrir o número quando ele não está preenchido na lista\n",
        "    else:\n",
        "      area_full.append(area) #se ele estiver contido na lista diferente de null, só soma a lista vazia \n",
        "    if type(largura)!= int:\n",
        "      largura_full.append(int(area/altura))\n",
        "    else: \n",
        "      largura_full.append(largura)\n",
        "    if type(altura)!= int:\n",
        "      altura_full.append(int(area/largura))\n",
        "    else:\n",
        "      altura_full.append(altura)\n",
        "  \n",
        "  return(area_full,largura_full,altura_full) #retorna as listas completas agora depois da verificação\n",
        "\n",
        "(area,largura,altura) = preenche(area,largura,altura) #usando a função com os parâmetros ja definidos\n",
        "\n",
        "print(area)\n",
        "print(largura)\n",
        "print(altura)\n"
      ]
    },
    {
      "cell_type": "markdown",
      "source": [
        "Geralmente os terrenos possuem mais largura ou altura ?"
      ],
      "metadata": {
        "id": "PPivDoMW2AXw"
      }
    },
    {
      "cell_type": "code",
      "source": [
        "print('A média em M2 da altura é', sum(altura)/len(altura))\n",
        "print('A média em M2 da largura é', sum(largura)/len(altura))"
      ],
      "metadata": {
        "colab": {
          "base_uri": "https://localhost:8080/"
        },
        "id": "sfK2vyfb2Gf_",
        "outputId": "d2427a23-671e-4511-e15e-2c9ae87e58f3"
      },
      "execution_count": null,
      "outputs": [
        {
          "output_type": "stream",
          "name": "stdout",
          "text": [
            "A média em M2 da altura é 22.2\n",
            "A média em M2 da largura é 55.9\n"
          ]
        }
      ]
    },
    {
      "cell_type": "markdown",
      "source": [
        "Quantos metros a empresa tem no total e qual a média de tamanho dos terrenos?"
      ],
      "metadata": {
        "id": "4dVo7oop3bkv"
      }
    },
    {
      "cell_type": "code",
      "source": [
        "print('O tamanho total da empresa é',sum(area),'média total dos terrenos é', sum(area)/len(area),'m2')"
      ],
      "metadata": {
        "colab": {
          "base_uri": "https://localhost:8080/"
        },
        "id": "WYtxmDsI3gQt",
        "outputId": "e57c2914-30b9-454f-87e5-7afdb835bf98"
      },
      "execution_count": null,
      "outputs": [
        {
          "output_type": "stream",
          "name": "stdout",
          "text": [
            "O tamanho total da empresa é 9085 média total dos terrenos é 908.5 m2\n"
          ]
        }
      ]
    },
    {
      "cell_type": "markdown",
      "source": [
        "RESOLUÇÃO DE CASES - CASE 2\n",
        "\n",
        "Questão 1 - Você recebeu um arquivo chamado usuarios_feedback, nesse arquivo contém o comentário, nome, gênero e nota de usuários referente a um produto de sua empresas. Você precisa verificar quais as palavras que mais apareceram nos comentários: \n",
        "\n",
        "usuarios_feedback = [{'nome':'Peter','nota':9,'genero':'M','comentario':'bom demais e agil'}, {'nome':'Joao','nota':10,'genero':'M','comentario':'agil e eficiente'}, {'nome':'user_not_found','nota':0,'genero':'M','comentario':'Horrível'}, {'nome':'Marta','nota':10,'genero':'F','comentario':'muito agil bom demais'}, {'nome':'Beatriz','nota':10,'genero':'F','comentario':'rápido e eficaz'}, {'nome':'user_not_found','nota':2,'genero':'M','comentario':'ruim'}, {'nome':'Jéssica','nota':10,'genero':'F','comentario':'agil'}, {'nome':'José','nota':7,'genero':'M','comentario':'ok'}, {'nome':'Elias','nota':5,'genero':'M','comentario':'precisa melhorar'}, {'nome':'Miriã','nota':9,'genero':'F','comentario':'foi muito agil e rápido'}, {'nome':'Maria','nota':10,'genero':'F','comentario':'muito bom e agil'}]"
      ],
      "metadata": {
        "id": "qZB90rcK4Xo6"
      }
    },
    {
      "cell_type": "code",
      "source": [
        "usuarios_feedback = [{'nome':'Peter','nota':9,'genero':'M','comentario':'bom demais e agil'}, \n",
        "                     {'nome':'Joao','nota':10,'genero':'M','comentario':'agil e eficiente'}, \n",
        "                     {'nome':'user_not_found','nota':0,'genero':'M','comentario':'Horrível'}, \n",
        "                     {'nome':'Marta','nota':10,'genero':'F','comentario':'muito agil bom demais'}, \n",
        "                     {'nome':'Beatriz','nota':10,'genero':'F','comentario':'rápido e eficaz'}, \n",
        "                     {'nome':'user_not_found','nota':2,'genero':'M','comentario':'ruim'}, \n",
        "                     {'nome':'Jéssica','nota':10,'genero':'F','comentario':'agil'}, \n",
        "                     {'nome':'José','nota':7,'genero':'M','comentario':'ok'}, \n",
        "                     {'nome':'Elias','nota':5,'genero':'M','comentario':'precisa melhorar'}, \n",
        "                     {'nome':'Miriã','nota':9,'genero':'F','comentario':'foi muito agil e rápido'}, \n",
        "                     {'nome':'Maria','nota':10,'genero':'F','comentario':'muito bom e agil'}]"
      ],
      "metadata": {
        "id": "JyNt6mXv4mWK"
      },
      "execution_count": null,
      "outputs": []
    },
    {
      "cell_type": "code",
      "source": [
        "def conta_frequencia(x):\n",
        "  todas_palavras = []\n",
        "  for user in x: #for percorrendo todas as palavras do dicionário\n",
        "    todas_palavras.extend(user['comentario'].split()) #usando o .extend que é diferente do .append, dando um .split pra pegar as palavras dentro dos comentários analisando palavras por palavras\n",
        "    uniqWords = sorted(set(todas_palavras)) #o set retira todas as palavras duplicadas e ordena elas com o sorted\n",
        "  for word in uniqWords: #ai para cada palavra dentro da uniqWords \n",
        "    print(todas_palavras.count(word), word) #conta quantas vezes aquela palara apareceu, printando a palavra na frente\n",
        "\n",
        "conta_frequencia(usuarios_feedback) "
      ],
      "metadata": {
        "colab": {
          "base_uri": "https://localhost:8080/"
        },
        "id": "pV5rFvsB5ebT",
        "outputId": "6518fbb0-09d6-4a21-a9c7-6f399140d336"
      },
      "execution_count": null,
      "outputs": [
        {
          "output_type": "stream",
          "name": "stdout",
          "text": [
            "1 Horrível\n",
            "6 agil\n",
            "3 bom\n",
            "2 demais\n",
            "5 e\n",
            "1 eficaz\n",
            "1 eficiente\n",
            "1 foi\n",
            "1 melhorar\n",
            "3 muito\n",
            "1 ok\n",
            "1 precisa\n",
            "1 ruim\n",
            "2 rápido\n"
          ]
        }
      ]
    },
    {
      "cell_type": "code",
      "source": [],
      "metadata": {
        "id": "JWdFEzIU8kww"
      },
      "execution_count": null,
      "outputs": []
    },
    {
      "cell_type": "markdown",
      "source": [
        "Usando o mesmo arquivo, calcular a média das notas separadas por gênero: \n",
        "\n",
        "usuarios_feedback = [{'nome':'Peter','nota':9,'genero':'M','comentario':'bom demais e agil'}, {'nome':'Joao','nota':10,'genero':'M','comentario':'agil e eficiente'}, {'nome':'user_not_found','nota':0,'genero':'M','comentario':'Horrível'}, {'nome':'Marta','nota':10,'genero':'F','comentario':'muito agil bom demais'}, {'nome':'Beatriz','nota':10,'genero':'F','comentario':'rápido e eficaz'}, {'nome':'user_not_found','nota':2,'genero':'M','comentario':'ruim'}, {'nome':'Jéssica','nota':10,'genero':'F','comentario':'agil'}, {'nome':'José','nota':7,'genero':'M','comentario':'ok'}, {'nome':'Elias','nota':5,'genero':'M','comentario':'precisa melhorar'}, {'nome':'Miriã','nota':9,'genero':'F','comentario':'foi muito agil e rápido'}, {'nome':'Maria','nota':10,'genero':'F','comentario':'muito bom e agil'}]"
      ],
      "metadata": {
        "id": "5iQFza9s4uk5"
      }
    },
    {
      "cell_type": "code",
      "source": [
        "usuarios_feedback = [{'nome':'Peter','nota':9,'genero':'M','comentario':'bom demais e agil'}, \n",
        "                     {'nome':'Joao','nota':10,'genero':'M','comentario':'agil e eficiente'},\n",
        "                     {'nome':'user_not_found','nota':0,'genero':'M','comentario':'Horrível'}, \n",
        "                     {'nome':'Marta','nota':10,'genero':'F','comentario':'muito agil bom demais'}, \n",
        "                     {'nome':'Beatriz','nota':10,'genero':'F','comentario':'rápido e eficaz'}, \n",
        "                     {'nome':'user_not_found','nota':2,'genero':'M','comentario':'ruim'}, \n",
        "                     {'nome':'Jéssica','nota':10,'genero':'F','comentario':'agil'}, \n",
        "                     {'nome':'José','nota':7,'genero':'M','comentario':'ok'}, \n",
        "                     {'nome':'Elias','nota':5,'genero':'M','comentario':'precisa melhorar'}, \n",
        "                     {'nome':'Miriã','nota':9,'genero':'F','comentario':'foi muito agil e rápido'}, \n",
        "                     {'nome':'Maria','nota':10,'genero':'F','comentario':'muito bom e agil'}]"
      ],
      "metadata": {
        "id": "JSP8JQ8y9Iev"
      },
      "execution_count": null,
      "outputs": []
    },
    {
      "cell_type": "code",
      "source": [
        "def notas (x):\n",
        "  m = []\n",
        "  f = []\n",
        "  for a in x: #para cada termo dentro de x\n",
        "    if a['genero'] == 'M': #se o resultado dentor da chave 'genero' for igual a \"M\", faça um append no resultado do valor da chave 'nota' \n",
        "      m.append(a['nota'])\n",
        "    elif a['genero'] == 'F':\n",
        "      f.append(a['nota'])\n",
        "  print('média masc = ',sum(m)/len(m),'média fem = ',sum(f)/len(f)) #calculando as média da nota usando o len, uma vez que vc percorreu termo a termo armazendano a nota de cada aluno\n",
        "  return m,f\n",
        "\n",
        "masc, fem = notas(usuarios_feedback)\n",
        "\n",
        "print(masc,fem)"
      ],
      "metadata": {
        "colab": {
          "base_uri": "https://localhost:8080/"
        },
        "id": "wknfOMeG4vlZ",
        "outputId": "c241ece9-4146-4ea8-e9bf-ae511a450779"
      },
      "execution_count": null,
      "outputs": [
        {
          "output_type": "stream",
          "name": "stdout",
          "text": [
            "média masc =  5.5 média fem =  9.8\n",
            "[9, 10, 0, 2, 7, 5] [10, 10, 10, 9, 10]\n"
          ]
        }
      ]
    },
    {
      "cell_type": "markdown",
      "source": [
        "Quantos usuários 'null' tem ?"
      ],
      "metadata": {
        "id": "-TLkhPOi_gD4"
      }
    },
    {
      "cell_type": "code",
      "source": [
        "user_null = []\n",
        "\n",
        "for a in usuarios_feedback: #para a lista dentro do dicionário usuario_feedback faça\n",
        "  if a['nome'] == 'user_not_found': #se o valor dentro de nome for igual a 'user_not_found'\n",
        "    print(a)\n",
        "    user_null.append(a)\n",
        "print(len(user_null))    "
      ],
      "metadata": {
        "colab": {
          "base_uri": "https://localhost:8080/"
        },
        "id": "DAVnrp8f_jyL",
        "outputId": "f78d07d5-dd59-4eb9-c116-047528514003"
      },
      "execution_count": null,
      "outputs": [
        {
          "output_type": "stream",
          "name": "stdout",
          "text": [
            "{'nome': 'user_not_found', 'nota': 0, 'genero': 'M', 'comentario': 'Horrível'}\n",
            "{'nome': 'user_not_found', 'nota': 2, 'genero': 'M', 'comentario': 'ruim'}\n",
            "2\n"
          ]
        }
      ]
    },
    {
      "cell_type": "markdown",
      "source": [
        "RESOLUÇÃO DE CASES - CASE 3\n",
        "\n",
        "\n",
        "Questão 1 - Sua empresa te passou uma lista com requisições de treinamentos (muitos repetidos), você tem que definir o cenário que melhor atenda os pedidos, o budget é de 150 moedas e você tem um dicionário que contém o nome do treinamento e o valor dele \n",
        "\n",
        "treinamentos = [{'treinamento':'Scrum','moedas':30}, {'treinamento':'Data Science','moedas':40}, {'treinamento':'Gestão de Projetos','moedas':50}, {'treinamento':'Marketing','moedas':30}, {'treinamento':'Cloud','moedas':20}, {'treinamento':'Blockchain','moedas':10}, {'treinamento':'Python','moedas':30}] \n",
        "\n",
        "pedidos = ['Scrum','Data Science','Gestão de Projetos','Marketing','Cloud','Python','Python','Python', 'Scrum','Data Science','Gestão de Projetos','Marketing','Data Science','Gestão de Projetos', 'Python','Marketing','Data Science','Gestão de Projetos','Data Science','Gestão de Projetos','Data Science']"
      ],
      "metadata": {
        "id": "L0AsjBqOBDnA"
      }
    },
    {
      "cell_type": "code",
      "source": [
        "treinamentos = [{'treinamento':'Scrum','moedas':30}, \n",
        "                {'treinamento':'Data Science','moedas':40}, \n",
        "                {'treinamento':'Gestão de Projetos','moedas':50}, \n",
        "                {'treinamento':'Marketing','moedas':30}, \n",
        "                {'treinamento':'Cloud','moedas':20}, \n",
        "                {'treinamento':'Blockchain','moedas':10}, \n",
        "                {'treinamento':'Python','moedas':30}] \n",
        "\n",
        "pedidos = ['Scrum','Data Science','Gestão de Projetos','Marketing','Cloud','Python','Python','Python', 'Scrum','Data Science','Gestão de Projetos','Marketing','Data Science','Gestão de Projetos', 'Python','Marketing','Data Science','Gestão de Projetos','Data Science','Gestão de Projetos','Data Science']"
      ],
      "metadata": {
        "id": "VhgKoOsuBLee"
      },
      "execution_count": null,
      "outputs": []
    },
    {
      "cell_type": "code",
      "source": [
        "def get_value (x,b):\n",
        "  for a in x: #percorre o x para cada valor de treinento  \n",
        "    if a['treinamento'] in b: #se algum valor de treinamentos estives dentro de b retorna o valor do curso \n",
        "      print('valor: ',a['moedas'] )\n",
        "      return a['moedas']\n",
        "\n",
        "\n",
        "ped = sorted(set(pedidos))\n",
        "for a in ped:\n",
        "  print('solicitações: ', pedidos.count(a), '\\ntreinamento', a)\n",
        "  valor = get_value(treinamentos,a)\n",
        "  for b in treinamentos:\n",
        "    if a == b['treinamento']:\n",
        "      b['total_pedidos'] = pedidos.count(a)"
      ],
      "metadata": {
        "colab": {
          "base_uri": "https://localhost:8080/"
        },
        "id": "uhceCMlobDQg",
        "outputId": "e57fa964-61bc-41d2-9818-4119641f2150"
      },
      "execution_count": null,
      "outputs": [
        {
          "output_type": "stream",
          "name": "stdout",
          "text": [
            "solicitações:  1 \n",
            "treinamento Cloud\n",
            "valor:  20\n",
            "solicitações:  6 \n",
            "treinamento Data Science\n",
            "valor:  40\n",
            "solicitações:  5 \n",
            "treinamento Gestão de Projetos\n",
            "valor:  50\n",
            "solicitações:  3 \n",
            "treinamento Marketing\n",
            "valor:  30\n",
            "solicitações:  4 \n",
            "treinamento Python\n",
            "valor:  30\n",
            "solicitações:  2 \n",
            "treinamento Scrum\n",
            "valor:  30\n"
          ]
        }
      ]
    },
    {
      "cell_type": "code",
      "source": [
        "treinamentos"
      ],
      "metadata": {
        "colab": {
          "base_uri": "https://localhost:8080/"
        },
        "id": "Ha1mdKeqdZQo",
        "outputId": "806eb1f1-82a6-49fc-d418-f0f096fc2413"
      },
      "execution_count": null,
      "outputs": [
        {
          "output_type": "execute_result",
          "data": {
            "text/plain": [
              "[{'moedas': 30, 'total_pedidos': 2, 'treinamento': 'Scrum'},\n",
              " {'moedas': 40, 'total_pedidos': 6, 'treinamento': 'Data Science'},\n",
              " {'moedas': 50, 'total_pedidos': 5, 'treinamento': 'Gestão de Projetos'},\n",
              " {'moedas': 30, 'total_pedidos': 3, 'treinamento': 'Marketing'},\n",
              " {'moedas': 20, 'total_pedidos': 1, 'treinamento': 'Cloud'},\n",
              " {'moedas': 10, 'treinamento': 'Blockchain'},\n",
              " {'moedas': 30, 'total_pedidos': 4, 'treinamento': 'Python'}]"
            ]
          },
          "metadata": {},
          "execution_count": 4
        }
      ]
    },
    {
      "cell_type": "markdown",
      "source": [
        "Atender o maior número de pedidos possível com esse budget"
      ],
      "metadata": {
        "id": "fKXHpkFKdmkH"
      }
    },
    {
      "cell_type": "code",
      "source": [
        "budget = 150\n",
        "count = 6\n",
        "total = []\n",
        "\n",
        "while budget >0:\n",
        "  for a in treinamentos:\n",
        "    qtd = a.get('total de pedidos', 0)\n",
        "    if qtd == count:\n",
        "      print('treinamento', a['treinamento', 'comprado'])\n",
        "      total.append(qtd)\n",
        "      budget=budget.a['moedas']\n",
        "      count=count-1\n",
        "    else:\n",
        "      continue\n",
        "print('total de pedidos',sum(total,'representando',sum(total)/len(pedidos),'% de atendimento'))\n"
      ],
      "metadata": {
        "id": "jK6zc1oZdmOY"
      },
      "execution_count": null,
      "outputs": []
    }
  ]
}