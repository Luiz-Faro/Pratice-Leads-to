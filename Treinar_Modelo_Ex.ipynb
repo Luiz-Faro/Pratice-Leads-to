{
  "nbformat": 4,
  "nbformat_minor": 0,
  "metadata": {
    "colab": {
      "provenance": []
    },
    "kernelspec": {
      "name": "python3",
      "display_name": "Python 3"
    },
    "language_info": {
      "name": "python"
    }
  },
  "cells": [
    {
      "cell_type": "markdown",
      "metadata": {
        "id": "ZmY1PVb_3q2Y"
      },
      "source": [
        "# Treinar um modelo de regressão linear em n dimensões"
      ]
    },
    {
      "cell_type": "code",
      "metadata": {
        "id": "PS4tTq1W_hzK"
      },
      "source": [
        "import numpy as np\n",
        "X = np.array([[1, 1, 3], [1, 2, 1], [2, 2, 4], [2, 3, 5]])\n",
        "# y = 1 * x_1 + 2 * x_2 + 5 * x_3 + 3\n",
        "y = np.dot(X, np.array([1, 2, 5])) + 3"
      ],
      "execution_count": null,
      "outputs": []
    },
    {
      "cell_type": "code",
      "metadata": {
        "colab": {
          "base_uri": "https://localhost:8080/"
        },
        "id": "FJm8NBVjBSiT",
        "outputId": "10090bfd-b817-4d16-d6eb-8e5c20188285"
      },
      "source": [
        "X[:5]"
      ],
      "execution_count": null,
      "outputs": [
        {
          "output_type": "execute_result",
          "data": {
            "text/plain": [
              "array([[1, 1, 3],\n",
              "       [1, 2, 1],\n",
              "       [2, 2, 4],\n",
              "       [2, 3, 5]])"
            ]
          },
          "metadata": {},
          "execution_count": 2
        }
      ]
    },
    {
      "cell_type": "code",
      "metadata": {
        "colab": {
          "base_uri": "https://localhost:8080/"
        },
        "id": "XpdjBaCKBVab",
        "outputId": "195014e4-536c-4ef0-a5f9-cb4e2c4c9f82"
      },
      "source": [
        "y[:5]"
      ],
      "execution_count": null,
      "outputs": [
        {
          "output_type": "execute_result",
          "data": {
            "text/plain": [
              "array([21, 13, 29, 36])"
            ]
          },
          "metadata": {},
          "execution_count": 3
        }
      ]
    },
    {
      "cell_type": "code",
      "metadata": {
        "id": "r75DCz5M1JMo"
      },
      "source": [
        "from sklearn.linear_model import LinearRegression\n",
        "reg = LinearRegression().fit(X, y)"
      ],
      "execution_count": null,
      "outputs": []
    },
    {
      "cell_type": "code",
      "metadata": {
        "colab": {
          "base_uri": "https://localhost:8080/"
        },
        "id": "ubV5K6uO_4c8",
        "outputId": "3cdcc9d1-94c4-4d61-c130-44cd2075fdcd"
      },
      "source": [
        "print(reg.coef_)\n",
        "\n",
        "print(reg.intercept_)"
      ],
      "execution_count": null,
      "outputs": [
        {
          "output_type": "stream",
          "text": [
            "[1. 2. 5.]\n",
            "3.000000000000007\n"
          ],
          "name": "stdout"
        }
      ]
    },
    {
      "cell_type": "code",
      "metadata": {
        "colab": {
          "base_uri": "https://localhost:8080/"
        },
        "id": "eITCpBhi_kXS",
        "outputId": "0219b7b8-3628-415e-c81a-cfa8b80832bc"
      },
      "source": [
        "reg.predict(np.array([[1, 2, 3]]))"
      ],
      "execution_count": null,
      "outputs": [
        {
          "output_type": "execute_result",
          "data": {
            "text/plain": [
              "array([23.])"
            ]
          },
          "metadata": {},
          "execution_count": 6
        }
      ]
    },
    {
      "cell_type": "code",
      "metadata": {
        "colab": {
          "base_uri": "https://localhost:8080/"
        },
        "id": "G8I0sXoU5tJt",
        "outputId": "9cc6847c-f64f-49b2-d841-23221791d81c"
      },
      "source": [
        "X_test = np.array([[1, 2, 3], [8, 9, 10], [2, 2, 4]])\n",
        "y_pred = reg.predict(X_test)\n",
        "y_pred"
      ],
      "execution_count": null,
      "outputs": [
        {
          "output_type": "execute_result",
          "data": {
            "text/plain": [
              "array([23., 79., 29.])"
            ]
          },
          "metadata": {},
          "execution_count": 7
        }
      ]
    },
    {
      "cell_type": "code",
      "metadata": {
        "colab": {
          "base_uri": "https://localhost:8080/"
        },
        "id": "tJXIDpR06kf6",
        "outputId": "dbbdabef-af78-4bf2-b959-d38258737a75"
      },
      "source": [
        "y_true = np.dot(X_test, np.array([1, 2, 5])) + 3\n",
        "y_true"
      ],
      "execution_count": null,
      "outputs": [
        {
          "output_type": "execute_result",
          "data": {
            "text/plain": [
              "array([23, 79, 29])"
            ]
          },
          "metadata": {},
          "execution_count": 8
        }
      ]
    },
    {
      "cell_type": "markdown",
      "metadata": {
        "id": "AhHN3VZ42_dj"
      },
      "source": [
        "# Salvar o modelo Scikit-Learn"
      ]
    },
    {
      "cell_type": "code",
      "metadata": {
        "colab": {
          "base_uri": "https://localhost:8080/"
        },
        "id": "yCnIOmFi6BhX",
        "outputId": "79888768-6bf4-4c3c-9274-b2938bee9ce7"
      },
      "source": [
        "import joblib\n",
        "filename = \"reg.joblib\"\n",
        "joblib.dump(reg, filename)"
      ],
      "execution_count": null,
      "outputs": [
        {
          "output_type": "execute_result",
          "data": {
            "text/plain": [
              "['reg.joblib']"
            ]
          },
          "metadata": {},
          "execution_count": 9
        }
      ]
    },
    {
      "cell_type": "code",
      "metadata": {
        "colab": {
          "base_uri": "https://localhost:8080/"
        },
        "id": "lLftgwCq2yLb",
        "outputId": "2b6ec87f-dddf-4b35-b277-f468c4f1ecc1"
      },
      "source": [
        "loaded_reg = joblib.load(filename)\n",
        "loaded_reg"
      ],
      "execution_count": null,
      "outputs": [
        {
          "output_type": "execute_result",
          "data": {
            "text/plain": [
              "LinearRegression(copy_X=True, fit_intercept=True, n_jobs=None, normalize=False)"
            ]
          },
          "metadata": {},
          "execution_count": 10
        }
      ]
    },
    {
      "cell_type": "markdown",
      "metadata": {
        "id": "kmwQ-srx_9Sk"
      },
      "source": [
        "# Carregar e reutilizar o modelo Scikit-Learn"
      ]
    },
    {
      "cell_type": "code",
      "metadata": {
        "id": "U0PMPL9J_pLn"
      },
      "source": [
        "y_pred = loaded_reg.predict(X_test)"
      ],
      "execution_count": null,
      "outputs": []
    },
    {
      "cell_type": "code",
      "metadata": {
        "colab": {
          "base_uri": "https://localhost:8080/"
        },
        "id": "1LZKYCp-Cc5K",
        "outputId": "1e936f96-8035-4ec7-b923-82ef47a3d18a"
      },
      "source": [
        "y_pred"
      ],
      "execution_count": null,
      "outputs": [
        {
          "output_type": "execute_result",
          "data": {
            "text/plain": [
              "array([23., 79., 29.])"
            ]
          },
          "metadata": {},
          "execution_count": 12
        }
      ]
    }
  ]
}