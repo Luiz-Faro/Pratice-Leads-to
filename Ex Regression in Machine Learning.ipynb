{
 "cells": [
  {
   "cell_type": "code",
   "execution_count": 1,
   "id": "c993c68d",
   "metadata": {},
   "outputs": [],
   "source": [
    "import pandas as pd"
   ]
  },
  {
   "cell_type": "code",
   "execution_count": 33,
   "id": "6aafc9af",
   "metadata": {},
   "outputs": [
    {
     "data": {
      "text/html": [
       "<div>\n",
       "<style scoped>\n",
       "    .dataframe tbody tr th:only-of-type {\n",
       "        vertical-align: middle;\n",
       "    }\n",
       "\n",
       "    .dataframe tbody tr th {\n",
       "        vertical-align: top;\n",
       "    }\n",
       "\n",
       "    .dataframe thead th {\n",
       "        text-align: right;\n",
       "    }\n",
       "</style>\n",
       "<table border=\"1\" class=\"dataframe\">\n",
       "  <thead>\n",
       "    <tr style=\"text-align: right;\">\n",
       "      <th></th>\n",
       "      <th>0</th>\n",
       "      <th>1</th>\n",
       "      <th>2</th>\n",
       "      <th>3</th>\n",
       "      <th>4</th>\n",
       "      <th>5</th>\n",
       "      <th>6</th>\n",
       "      <th>7</th>\n",
       "      <th>8</th>\n",
       "      <th>9</th>\n",
       "      <th>...</th>\n",
       "      <th>81</th>\n",
       "      <th>82</th>\n",
       "      <th>83</th>\n",
       "      <th>84</th>\n",
       "      <th>85</th>\n",
       "      <th>86</th>\n",
       "      <th>87</th>\n",
       "      <th>88</th>\n",
       "      <th>89</th>\n",
       "      <th>90</th>\n",
       "    </tr>\n",
       "  </thead>\n",
       "  <tbody>\n",
       "    <tr>\n",
       "      <th>0</th>\n",
       "      <td>2001</td>\n",
       "      <td>49.94357</td>\n",
       "      <td>21.47114</td>\n",
       "      <td>73.07750</td>\n",
       "      <td>8.74861</td>\n",
       "      <td>-17.40628</td>\n",
       "      <td>-13.09905</td>\n",
       "      <td>-25.01202</td>\n",
       "      <td>-12.23257</td>\n",
       "      <td>7.83089</td>\n",
       "      <td>...</td>\n",
       "      <td>13.01620</td>\n",
       "      <td>-54.40548</td>\n",
       "      <td>58.99367</td>\n",
       "      <td>15.37344</td>\n",
       "      <td>1.11144</td>\n",
       "      <td>-23.08793</td>\n",
       "      <td>68.40795</td>\n",
       "      <td>-1.82223</td>\n",
       "      <td>-27.46348</td>\n",
       "      <td>2.26327</td>\n",
       "    </tr>\n",
       "    <tr>\n",
       "      <th>1</th>\n",
       "      <td>2001</td>\n",
       "      <td>48.73215</td>\n",
       "      <td>18.42930</td>\n",
       "      <td>70.32679</td>\n",
       "      <td>12.94636</td>\n",
       "      <td>-10.32437</td>\n",
       "      <td>-24.83777</td>\n",
       "      <td>8.76630</td>\n",
       "      <td>-0.92019</td>\n",
       "      <td>18.76548</td>\n",
       "      <td>...</td>\n",
       "      <td>5.66812</td>\n",
       "      <td>-19.68073</td>\n",
       "      <td>33.04964</td>\n",
       "      <td>42.87836</td>\n",
       "      <td>-9.90378</td>\n",
       "      <td>-32.22788</td>\n",
       "      <td>70.49388</td>\n",
       "      <td>12.04941</td>\n",
       "      <td>58.43453</td>\n",
       "      <td>26.92061</td>\n",
       "    </tr>\n",
       "    <tr>\n",
       "      <th>2</th>\n",
       "      <td>2001</td>\n",
       "      <td>50.95714</td>\n",
       "      <td>31.85602</td>\n",
       "      <td>55.81851</td>\n",
       "      <td>13.41693</td>\n",
       "      <td>-6.57898</td>\n",
       "      <td>-18.54940</td>\n",
       "      <td>-3.27872</td>\n",
       "      <td>-2.35035</td>\n",
       "      <td>16.07017</td>\n",
       "      <td>...</td>\n",
       "      <td>3.03800</td>\n",
       "      <td>26.05866</td>\n",
       "      <td>-50.92779</td>\n",
       "      <td>10.93792</td>\n",
       "      <td>-0.07568</td>\n",
       "      <td>43.20130</td>\n",
       "      <td>-115.00698</td>\n",
       "      <td>-0.05859</td>\n",
       "      <td>39.67068</td>\n",
       "      <td>-0.66345</td>\n",
       "    </tr>\n",
       "    <tr>\n",
       "      <th>3</th>\n",
       "      <td>2001</td>\n",
       "      <td>48.24750</td>\n",
       "      <td>-1.89837</td>\n",
       "      <td>36.29772</td>\n",
       "      <td>2.58776</td>\n",
       "      <td>0.97170</td>\n",
       "      <td>-26.21683</td>\n",
       "      <td>5.05097</td>\n",
       "      <td>-10.34124</td>\n",
       "      <td>3.55005</td>\n",
       "      <td>...</td>\n",
       "      <td>34.57337</td>\n",
       "      <td>-171.70734</td>\n",
       "      <td>-16.96705</td>\n",
       "      <td>-46.67617</td>\n",
       "      <td>-12.51516</td>\n",
       "      <td>82.58061</td>\n",
       "      <td>-72.08993</td>\n",
       "      <td>9.90558</td>\n",
       "      <td>199.62971</td>\n",
       "      <td>18.85382</td>\n",
       "    </tr>\n",
       "    <tr>\n",
       "      <th>4</th>\n",
       "      <td>2001</td>\n",
       "      <td>50.97020</td>\n",
       "      <td>42.20998</td>\n",
       "      <td>67.09964</td>\n",
       "      <td>8.46791</td>\n",
       "      <td>-15.85279</td>\n",
       "      <td>-16.81409</td>\n",
       "      <td>-12.48207</td>\n",
       "      <td>-9.37636</td>\n",
       "      <td>12.63699</td>\n",
       "      <td>...</td>\n",
       "      <td>9.92661</td>\n",
       "      <td>-55.95724</td>\n",
       "      <td>64.92712</td>\n",
       "      <td>-17.72522</td>\n",
       "      <td>-1.49237</td>\n",
       "      <td>-7.50035</td>\n",
       "      <td>51.76631</td>\n",
       "      <td>7.88713</td>\n",
       "      <td>55.66926</td>\n",
       "      <td>28.74903</td>\n",
       "    </tr>\n",
       "  </tbody>\n",
       "</table>\n",
       "<p>5 rows × 91 columns</p>\n",
       "</div>"
      ],
      "text/plain": [
       "     0         1         2         3         4         5         6         7   \\\n",
       "0  2001  49.94357  21.47114  73.07750   8.74861 -17.40628 -13.09905 -25.01202   \n",
       "1  2001  48.73215  18.42930  70.32679  12.94636 -10.32437 -24.83777   8.76630   \n",
       "2  2001  50.95714  31.85602  55.81851  13.41693  -6.57898 -18.54940  -3.27872   \n",
       "3  2001  48.24750  -1.89837  36.29772   2.58776   0.97170 -26.21683   5.05097   \n",
       "4  2001  50.97020  42.20998  67.09964   8.46791 -15.85279 -16.81409 -12.48207   \n",
       "\n",
       "         8         9   ...        81         82        83        84        85  \\\n",
       "0 -12.23257   7.83089  ...  13.01620  -54.40548  58.99367  15.37344   1.11144   \n",
       "1  -0.92019  18.76548  ...   5.66812  -19.68073  33.04964  42.87836  -9.90378   \n",
       "2  -2.35035  16.07017  ...   3.03800   26.05866 -50.92779  10.93792  -0.07568   \n",
       "3 -10.34124   3.55005  ...  34.57337 -171.70734 -16.96705 -46.67617 -12.51516   \n",
       "4  -9.37636  12.63699  ...   9.92661  -55.95724  64.92712 -17.72522  -1.49237   \n",
       "\n",
       "         86         87        88         89        90  \n",
       "0 -23.08793   68.40795  -1.82223  -27.46348   2.26327  \n",
       "1 -32.22788   70.49388  12.04941   58.43453  26.92061  \n",
       "2  43.20130 -115.00698  -0.05859   39.67068  -0.66345  \n",
       "3  82.58061  -72.08993   9.90558  199.62971  18.85382  \n",
       "4  -7.50035   51.76631   7.88713   55.66926  28.74903  \n",
       "\n",
       "[5 rows x 91 columns]"
      ]
     },
     "execution_count": 33,
     "metadata": {},
     "output_type": "execute_result"
    }
   ],
   "source": [
    "df= pd.read_csv(\"YearPredictionMSD.txt\",header = None)\n",
    "df.head()"
   ]
  },
  {
   "cell_type": "code",
   "execution_count": 34,
   "id": "edc67e34",
   "metadata": {},
   "outputs": [
    {
     "data": {
      "text/plain": [
       "(515345, 91)"
      ]
     },
     "execution_count": 34,
     "metadata": {},
     "output_type": "execute_result"
    }
   ],
   "source": [
    "df.shape"
   ]
  },
  {
   "cell_type": "markdown",
   "id": "5e3de5f6",
   "metadata": {},
   "source": [
    "# Questão 1 - \n",
    "Nosso objetivo a ser analisado a partir do dataset (acesse o link nas instruções da prova) é prever o ano em que a música foi produzida. Importe os dados e crie o dataset (utilize pd.read_csv(‘caminho’, header = None). Antes de começar, analise o volume de dados. Feito isso responda a pergunta a seguir: Quantas linhas, colunas e tamanho aproximadamente (em MB) dos nossos dados?"
   ]
  },
  {
   "cell_type": "code",
   "execution_count": 35,
   "id": "46cc343a",
   "metadata": {},
   "outputs": [],
   "source": [
    "#Rows:515345 \\Columns: 90 \\Tamanho: 450MB"
   ]
  },
  {
   "cell_type": "markdown",
   "id": "b5bb937f",
   "metadata": {},
   "source": [
    "# Questão 2 - \n",
    "Separamos os sets de treinamento e de teste conforme as indicações do site: \"You should respect the following train / test split - train: first 463,715 examples / test: last 51,630 examples It avoids the 'producer effect' by making sure no song from a given artist ends up in both the train and test set.\".: Após a separação dos dados, qual é o primeiro, último valor, moda e mediana, respectivamente, do conjunto de testes?"
   ]
  },
  {
   "cell_type": "code",
   "execution_count": 36,
   "id": "8c061898",
   "metadata": {},
   "outputs": [
    {
     "data": {
      "text/plain": [
       "((463715, 91), (51630, 91))"
      ]
     },
     "execution_count": 36,
     "metadata": {},
     "output_type": "execute_result"
    }
   ],
   "source": [
    "train = df.iloc[:463715]\n",
    "test = df.iloc[463715:]\n",
    "\n",
    "train.shape,test.shape"
   ]
  },
  {
   "cell_type": "code",
   "execution_count": 37,
   "id": "712a825d",
   "metadata": {},
   "outputs": [
    {
     "data": {
      "text/plain": [
       "(2007, 2005, 2007, 2002)"
      ]
     },
     "execution_count": 37,
     "metadata": {},
     "output_type": "execute_result"
    }
   ],
   "source": [
    "test[0].iloc[0],test[0].iloc[-1],int(test[0].mode()),int(test[0].median())"
   ]
  },
  {
   "cell_type": "markdown",
   "id": "857b6e4e",
   "metadata": {},
   "source": [
    "# Questão 3 - \n",
    "Observe os valores de MAE aplicados nos datasets de treino e teste, adaptando o código abaixo (utilizando as recomendações de separação da questão anterior): # import the libraries import pandas as pd import numpy as np from sklearn.linear_model import LinearRegression from sklearn.metrics import mean_absolute_error # load your data dataset = pd.read_csv('/content/YearPredictionMSD.txt', header=None).to_numpy() # filtereing df X_train = dataset[INSIRA O CÓDIGO AQUI] y_train = np.asarray(dataset[INSIRA O CÓDIGO AQUI) X_test = dataset[INSIRA O CÓDIGO AQUI] y_test = np.asarray(dataset[INSIRA O CÓDIGO AQUI]) # create the model regr = LinearRegression() # training the model regr.fit(X_train, y_train) # evaluating the model print(\"MAE train set:\", mean_absolute_error(y_train,INSIRA O CÓDIGO AQUI)) print(\"MAE test set:\", mean_absolute_error(y_test, INSIRA O CÓDIGO AQUI)) Quais os valores de MAE para o caso de treino e teste, com 6 casas decimais?"
   ]
  },
  {
   "cell_type": "code",
   "execution_count": 38,
   "id": "73a7606c",
   "metadata": {},
   "outputs": [],
   "source": [
    "# import the libraries \n",
    "import pandas as pd \n",
    "import numpy as np \n",
    "from sklearn.linear_model import LinearRegression \n",
    "from sklearn.metrics import mean_absolute_error"
   ]
  },
  {
   "cell_type": "code",
   "execution_count": 56,
   "id": "977264e6",
   "metadata": {},
   "outputs": [],
   "source": [
    "# load your data \n",
    "##df = pd.read_csv('YearPredictionMSD.txt', header=None).to_numpy() \n",
    "# filtereing df \n",
    "X_train = train.drop(columns=[0])\n",
    "y_train = np.asarray(train[0].values) "
   ]
  },
  {
   "cell_type": "code",
   "execution_count": 57,
   "id": "d978091d",
   "metadata": {},
   "outputs": [],
   "source": [
    "X_test = test.drop(columns=[0])\n",
    "y_test = np.asarray(test[0].values) "
   ]
  },
  {
   "cell_type": "code",
   "execution_count": 60,
   "id": "41005925",
   "metadata": {},
   "outputs": [],
   "source": [
    "# create the model \n",
    "regr = LinearRegression() "
   ]
  },
  {
   "cell_type": "code",
   "execution_count": 61,
   "id": "a25452d4",
   "metadata": {},
   "outputs": [
    {
     "data": {
      "text/plain": [
       "LinearRegression()"
      ]
     },
     "execution_count": 61,
     "metadata": {},
     "output_type": "execute_result"
    }
   ],
   "source": [
    "# training the model \n",
    "regr.fit(X_train, y_train)"
   ]
  },
  {
   "cell_type": "code",
   "execution_count": 65,
   "id": "7b983af8",
   "metadata": {},
   "outputs": [],
   "source": [
    "y_pred_test = regr.predict(X_test)\n",
    "y_pred_train = regr.predict(X_train)\n"
   ]
  },
  {
   "cell_type": "code",
   "execution_count": 66,
   "id": "3b0d569d",
   "metadata": {},
   "outputs": [
    {
     "name": "stdout",
     "output_type": "stream",
     "text": [
      "MAE train set: 6.795570167266231\n",
      "MAE test set: 6.800496463186955\n"
     ]
    }
   ],
   "source": [
    "# evaluating the model \n",
    "print(\"MAE train set:\", mean_absolute_error(y_train,y_pred_train)) \n",
    "print(\"MAE test set:\", mean_absolute_error(y_test, y_pred_test))"
   ]
  },
  {
   "cell_type": "code",
   "execution_count": 67,
   "id": "8c52485b",
   "metadata": {},
   "outputs": [],
   "source": [
    "#Treino: 6.795570 Teste: 6.800496"
   ]
  },
  {
   "cell_type": "markdown",
   "id": "31a74c8f",
   "metadata": {},
   "source": [
    "# Questão 4 - \n",
    "Vamos agora tentar usar a expansão polinomial dos features, seguida por uma etapa de features selection. Isso garante que tenhamos todos os features, baseados nos features do problema, para selecionar o melhor e executar um regressor linear. Como não sabemos a priori qual é o número ótimo de features (K), vamos tratar isso como um parâmetro e plotar o MAE para o treinamento e o conjunto de teste como uma variável. Utilizando o código da questão anterior (n°3), adicione o segmento abaixo e analise o gráfico gerado: # import the libraries from sklearn.pipeline import Pipeline from sklearn import feature_selection from sklearn.preprocessing import PolynomialFeatures from sklearn.feature_selection import SelectKBest import gc # setting validation params folds = 12 train_idx = list(KFold(folds, random_state=101, shuffle=True).split(X_train))[0][1] to_plot = [] # training and validating for k_feat in range(50, 2001, 50): gc.collect() print('---------------------------') print(\"K = \", k_feat) poly = PolynomialFeatures() regr = LinearRegression() f_sel = SelectKBest(feature_selection.f_regression, k=k_feat) pipeline = Pipeline([('poly', poly), ('f_sel', f_sel), ('regr', regr)]) tic = time.perf_counter() pipeline.fit(X_train[train_idx], y_train[train_idx]) print(\"Training time [s]:\", time.perf_counter()-tic) mae_train = mean_absolute_error(y_train[train_idx], pipeline.predict(X_train[train_idx])) mae_test = mean_absolute_error(y_test, pipeline.predict(np.nan_to_num(X_test))) print(\"MAE train set:\", mae_train) print(\"MAE test set:\", mae_test) to_plot.append((k_feat, mae_train, mae_test)) # plotting results plt.plot([x[0] for x in to_plot], [x[1] for x in to_plot], 'b', label='Train') plt.plot([x[0] for x in to_plot], [x[2] for x in to_plot], 'r--', label='Test') plt.xlabel('Num. features selected') plt.ylabel('MAE train/test') plt.legend(loc=0) plt.show() Analisando o gráfico gerado, o melhor valor de K que generaliza nosso problema é aproximadamente ?"
   ]
  },
  {
   "cell_type": "code",
   "execution_count": 83,
   "id": "348c738b",
   "metadata": {},
   "outputs": [],
   "source": [
    "# import the libraries \n",
    "from sklearn.pipeline import Pipeline \n",
    "from sklearn import feature_selection \n",
    "from sklearn.preprocessing import PolynomialFeatures \n",
    "from sklearn.feature_selection import SelectKBest \n",
    "from sklearn.model_selection import KFold\n",
    "import gc \n",
    "import time\n",
    "import matplotlib.pyplot as plt"
   ]
  },
  {
   "cell_type": "code",
   "execution_count": 76,
   "id": "d66928a3",
   "metadata": {},
   "outputs": [],
   "source": [
    "# setting validation params \n",
    "folds = 12 \n",
    "train_idx = list(KFold(folds, random_state=101, shuffle=True).split(X_train))[0][1] \n",
    "to_plot = [] \n"
   ]
  },
  {
   "cell_type": "code",
   "execution_count": 89,
   "id": "d9cd5136",
   "metadata": {
    "scrolled": true
   },
   "outputs": [
    {
     "name": "stdout",
     "output_type": "stream",
     "text": [
      "---------------------------\n",
      "K =  50\n"
     ]
    },
    {
     "name": "stderr",
     "output_type": "stream",
     "text": [
      "C:\\ProgramData\\Anaconda3\\lib\\site-packages\\sklearn\\feature_selection\\_univariate_selection.py:289: RuntimeWarning: divide by zero encountered in divide\n",
      "  correlation_coefficient /= X_norms\n",
      "C:\\ProgramData\\Anaconda3\\lib\\site-packages\\sklearn\\feature_selection\\_univariate_selection.py:358: RuntimeWarning: invalid value encountered in divide\n",
      "  f_statistic = corr_coef_squared / (1 - corr_coef_squared) * deg_of_freedom\n"
     ]
    },
    {
     "name": "stdout",
     "output_type": "stream",
     "text": [
      "Training time [s]: 2.5340925000000425\n",
      "MAE train set: 7.216794032937463\n",
      "MAE test set: 7.175089968026127\n",
      "---------------------------\n",
      "K =  100\n"
     ]
    },
    {
     "name": "stderr",
     "output_type": "stream",
     "text": [
      "C:\\ProgramData\\Anaconda3\\lib\\site-packages\\sklearn\\feature_selection\\_univariate_selection.py:289: RuntimeWarning: divide by zero encountered in divide\n",
      "  correlation_coefficient /= X_norms\n",
      "C:\\ProgramData\\Anaconda3\\lib\\site-packages\\sklearn\\feature_selection\\_univariate_selection.py:358: RuntimeWarning: invalid value encountered in divide\n",
      "  f_statistic = corr_coef_squared / (1 - corr_coef_squared) * deg_of_freedom\n"
     ]
    },
    {
     "name": "stdout",
     "output_type": "stream",
     "text": [
      "Training time [s]: 2.856852300000355\n",
      "MAE train set: 7.153420914286551\n",
      "MAE test set: 7.114260931226086\n",
      "---------------------------\n",
      "K =  150\n"
     ]
    },
    {
     "name": "stderr",
     "output_type": "stream",
     "text": [
      "C:\\ProgramData\\Anaconda3\\lib\\site-packages\\sklearn\\feature_selection\\_univariate_selection.py:289: RuntimeWarning: divide by zero encountered in divide\n",
      "  correlation_coefficient /= X_norms\n",
      "C:\\ProgramData\\Anaconda3\\lib\\site-packages\\sklearn\\feature_selection\\_univariate_selection.py:358: RuntimeWarning: invalid value encountered in divide\n",
      "  f_statistic = corr_coef_squared / (1 - corr_coef_squared) * deg_of_freedom\n"
     ]
    },
    {
     "name": "stdout",
     "output_type": "stream",
     "text": [
      "Training time [s]: 3.326794300000074\n",
      "MAE train set: 7.068339343931105\n",
      "MAE test set: 7.061414527369334\n",
      "---------------------------\n",
      "K =  200\n"
     ]
    },
    {
     "name": "stderr",
     "output_type": "stream",
     "text": [
      "C:\\ProgramData\\Anaconda3\\lib\\site-packages\\sklearn\\feature_selection\\_univariate_selection.py:289: RuntimeWarning: divide by zero encountered in divide\n",
      "  correlation_coefficient /= X_norms\n",
      "C:\\ProgramData\\Anaconda3\\lib\\site-packages\\sklearn\\feature_selection\\_univariate_selection.py:358: RuntimeWarning: invalid value encountered in divide\n",
      "  f_statistic = corr_coef_squared / (1 - corr_coef_squared) * deg_of_freedom\n"
     ]
    },
    {
     "name": "stdout",
     "output_type": "stream",
     "text": [
      "Training time [s]: 3.291631199999756\n",
      "MAE train set: 7.021443393137203\n",
      "MAE test set: 7.0422511221278\n",
      "---------------------------\n",
      "K =  250\n"
     ]
    },
    {
     "name": "stderr",
     "output_type": "stream",
     "text": [
      "C:\\ProgramData\\Anaconda3\\lib\\site-packages\\sklearn\\feature_selection\\_univariate_selection.py:289: RuntimeWarning: divide by zero encountered in divide\n",
      "  correlation_coefficient /= X_norms\n",
      "C:\\ProgramData\\Anaconda3\\lib\\site-packages\\sklearn\\feature_selection\\_univariate_selection.py:358: RuntimeWarning: invalid value encountered in divide\n",
      "  f_statistic = corr_coef_squared / (1 - corr_coef_squared) * deg_of_freedom\n"
     ]
    },
    {
     "name": "stdout",
     "output_type": "stream",
     "text": [
      "Training time [s]: 3.4951473999999507\n",
      "MAE train set: 6.9784128387653706\n",
      "MAE test set: 7.0199844834786544\n",
      "---------------------------\n",
      "K =  300\n"
     ]
    },
    {
     "name": "stderr",
     "output_type": "stream",
     "text": [
      "C:\\ProgramData\\Anaconda3\\lib\\site-packages\\sklearn\\feature_selection\\_univariate_selection.py:289: RuntimeWarning: divide by zero encountered in divide\n",
      "  correlation_coefficient /= X_norms\n",
      "C:\\ProgramData\\Anaconda3\\lib\\site-packages\\sklearn\\feature_selection\\_univariate_selection.py:358: RuntimeWarning: invalid value encountered in divide\n",
      "  f_statistic = corr_coef_squared / (1 - corr_coef_squared) * deg_of_freedom\n"
     ]
    },
    {
     "name": "stdout",
     "output_type": "stream",
     "text": [
      "Training time [s]: 3.5463368999999147\n",
      "MAE train set: 6.91862882397508\n",
      "MAE test set: 6.9703997765396695\n",
      "---------------------------\n",
      "K =  350\n"
     ]
    },
    {
     "name": "stderr",
     "output_type": "stream",
     "text": [
      "C:\\ProgramData\\Anaconda3\\lib\\site-packages\\sklearn\\feature_selection\\_univariate_selection.py:289: RuntimeWarning: divide by zero encountered in divide\n",
      "  correlation_coefficient /= X_norms\n",
      "C:\\ProgramData\\Anaconda3\\lib\\site-packages\\sklearn\\feature_selection\\_univariate_selection.py:358: RuntimeWarning: invalid value encountered in divide\n",
      "  f_statistic = corr_coef_squared / (1 - corr_coef_squared) * deg_of_freedom\n"
     ]
    },
    {
     "name": "stdout",
     "output_type": "stream",
     "text": [
      "Training time [s]: 3.8783007000001817\n",
      "MAE train set: 6.889693224948972\n",
      "MAE test set: 6.957575993566965\n",
      "---------------------------\n",
      "K =  400\n"
     ]
    },
    {
     "name": "stderr",
     "output_type": "stream",
     "text": [
      "C:\\ProgramData\\Anaconda3\\lib\\site-packages\\sklearn\\feature_selection\\_univariate_selection.py:289: RuntimeWarning: divide by zero encountered in divide\n",
      "  correlation_coefficient /= X_norms\n",
      "C:\\ProgramData\\Anaconda3\\lib\\site-packages\\sklearn\\feature_selection\\_univariate_selection.py:358: RuntimeWarning: invalid value encountered in divide\n",
      "  f_statistic = corr_coef_squared / (1 - corr_coef_squared) * deg_of_freedom\n"
     ]
    },
    {
     "name": "stdout",
     "output_type": "stream",
     "text": [
      "Training time [s]: 3.9920913000000837\n",
      "MAE train set: 6.86189564461307\n",
      "MAE test set: 6.939710912503359\n",
      "---------------------------\n",
      "K =  450\n"
     ]
    },
    {
     "name": "stderr",
     "output_type": "stream",
     "text": [
      "C:\\ProgramData\\Anaconda3\\lib\\site-packages\\sklearn\\feature_selection\\_univariate_selection.py:289: RuntimeWarning: divide by zero encountered in divide\n",
      "  correlation_coefficient /= X_norms\n",
      "C:\\ProgramData\\Anaconda3\\lib\\site-packages\\sklearn\\feature_selection\\_univariate_selection.py:358: RuntimeWarning: invalid value encountered in divide\n",
      "  f_statistic = corr_coef_squared / (1 - corr_coef_squared) * deg_of_freedom\n"
     ]
    },
    {
     "name": "stdout",
     "output_type": "stream",
     "text": [
      "Training time [s]: 4.12383890000001\n",
      "MAE train set: 6.847094488166174\n",
      "MAE test set: 6.932495468465471\n",
      "---------------------------\n",
      "K =  500\n"
     ]
    },
    {
     "name": "stderr",
     "output_type": "stream",
     "text": [
      "C:\\ProgramData\\Anaconda3\\lib\\site-packages\\sklearn\\feature_selection\\_univariate_selection.py:289: RuntimeWarning: divide by zero encountered in divide\n",
      "  correlation_coefficient /= X_norms\n",
      "C:\\ProgramData\\Anaconda3\\lib\\site-packages\\sklearn\\feature_selection\\_univariate_selection.py:358: RuntimeWarning: invalid value encountered in divide\n",
      "  f_statistic = corr_coef_squared / (1 - corr_coef_squared) * deg_of_freedom\n"
     ]
    },
    {
     "name": "stdout",
     "output_type": "stream",
     "text": [
      "Training time [s]: 4.551977199999783\n",
      "MAE train set: 6.7295909876631255\n",
      "MAE test set: 6.831945834100169\n",
      "---------------------------\n",
      "K =  550\n"
     ]
    },
    {
     "name": "stderr",
     "output_type": "stream",
     "text": [
      "C:\\ProgramData\\Anaconda3\\lib\\site-packages\\sklearn\\feature_selection\\_univariate_selection.py:289: RuntimeWarning: divide by zero encountered in divide\n",
      "  correlation_coefficient /= X_norms\n",
      "C:\\ProgramData\\Anaconda3\\lib\\site-packages\\sklearn\\feature_selection\\_univariate_selection.py:358: RuntimeWarning: invalid value encountered in divide\n",
      "  f_statistic = corr_coef_squared / (1 - corr_coef_squared) * deg_of_freedom\n"
     ]
    },
    {
     "name": "stdout",
     "output_type": "stream",
     "text": [
      "Training time [s]: 4.426243800000066\n",
      "MAE train set: 6.716341514600808\n",
      "MAE test set: 6.827960028827437\n",
      "---------------------------\n",
      "K =  600\n"
     ]
    },
    {
     "name": "stderr",
     "output_type": "stream",
     "text": [
      "C:\\ProgramData\\Anaconda3\\lib\\site-packages\\sklearn\\feature_selection\\_univariate_selection.py:289: RuntimeWarning: divide by zero encountered in divide\n",
      "  correlation_coefficient /= X_norms\n",
      "C:\\ProgramData\\Anaconda3\\lib\\site-packages\\sklearn\\feature_selection\\_univariate_selection.py:358: RuntimeWarning: invalid value encountered in divide\n",
      "  f_statistic = corr_coef_squared / (1 - corr_coef_squared) * deg_of_freedom\n"
     ]
    },
    {
     "name": "stdout",
     "output_type": "stream",
     "text": [
      "Training time [s]: 5.4014233000002605\n",
      "MAE train set: 6.7062825598333085\n",
      "MAE test set: 6.834337525699323\n",
      "---------------------------\n",
      "K =  650\n"
     ]
    },
    {
     "name": "stderr",
     "output_type": "stream",
     "text": [
      "C:\\ProgramData\\Anaconda3\\lib\\site-packages\\sklearn\\feature_selection\\_univariate_selection.py:289: RuntimeWarning: divide by zero encountered in divide\n",
      "  correlation_coefficient /= X_norms\n",
      "C:\\ProgramData\\Anaconda3\\lib\\site-packages\\sklearn\\feature_selection\\_univariate_selection.py:358: RuntimeWarning: invalid value encountered in divide\n",
      "  f_statistic = corr_coef_squared / (1 - corr_coef_squared) * deg_of_freedom\n"
     ]
    },
    {
     "name": "stdout",
     "output_type": "stream",
     "text": [
      "Training time [s]: 5.18663800000013\n",
      "MAE train set: 6.695524674227263\n",
      "MAE test set: 6.827966043745163\n",
      "---------------------------\n",
      "K =  700\n"
     ]
    },
    {
     "name": "stderr",
     "output_type": "stream",
     "text": [
      "C:\\ProgramData\\Anaconda3\\lib\\site-packages\\sklearn\\feature_selection\\_univariate_selection.py:289: RuntimeWarning: divide by zero encountered in divide\n",
      "  correlation_coefficient /= X_norms\n",
      "C:\\ProgramData\\Anaconda3\\lib\\site-packages\\sklearn\\feature_selection\\_univariate_selection.py:358: RuntimeWarning: invalid value encountered in divide\n",
      "  f_statistic = corr_coef_squared / (1 - corr_coef_squared) * deg_of_freedom\n"
     ]
    },
    {
     "name": "stdout",
     "output_type": "stream",
     "text": [
      "Training time [s]: 5.523722400000224\n",
      "MAE train set: 6.67643102523426\n",
      "MAE test set: 6.817172651820285\n",
      "---------------------------\n",
      "K =  750\n"
     ]
    },
    {
     "name": "stderr",
     "output_type": "stream",
     "text": [
      "C:\\ProgramData\\Anaconda3\\lib\\site-packages\\sklearn\\feature_selection\\_univariate_selection.py:289: RuntimeWarning: divide by zero encountered in divide\n",
      "  correlation_coefficient /= X_norms\n",
      "C:\\ProgramData\\Anaconda3\\lib\\site-packages\\sklearn\\feature_selection\\_univariate_selection.py:358: RuntimeWarning: invalid value encountered in divide\n",
      "  f_statistic = corr_coef_squared / (1 - corr_coef_squared) * deg_of_freedom\n"
     ]
    },
    {
     "name": "stdout",
     "output_type": "stream",
     "text": [
      "Training time [s]: 5.752167399999962\n",
      "MAE train set: 6.659093391870574\n",
      "MAE test set: 6.820128308398661\n",
      "---------------------------\n",
      "K =  800\n"
     ]
    },
    {
     "name": "stderr",
     "output_type": "stream",
     "text": [
      "C:\\ProgramData\\Anaconda3\\lib\\site-packages\\sklearn\\feature_selection\\_univariate_selection.py:289: RuntimeWarning: divide by zero encountered in divide\n",
      "  correlation_coefficient /= X_norms\n",
      "C:\\ProgramData\\Anaconda3\\lib\\site-packages\\sklearn\\feature_selection\\_univariate_selection.py:358: RuntimeWarning: invalid value encountered in divide\n",
      "  f_statistic = corr_coef_squared / (1 - corr_coef_squared) * deg_of_freedom\n"
     ]
    },
    {
     "name": "stdout",
     "output_type": "stream",
     "text": [
      "Training time [s]: 5.960105300000123\n",
      "MAE train set: 6.623336415907693\n",
      "MAE test set: 6.790376411313661\n",
      "---------------------------\n",
      "K =  850\n"
     ]
    },
    {
     "name": "stderr",
     "output_type": "stream",
     "text": [
      "C:\\ProgramData\\Anaconda3\\lib\\site-packages\\sklearn\\feature_selection\\_univariate_selection.py:289: RuntimeWarning: divide by zero encountered in divide\n",
      "  correlation_coefficient /= X_norms\n",
      "C:\\ProgramData\\Anaconda3\\lib\\site-packages\\sklearn\\feature_selection\\_univariate_selection.py:358: RuntimeWarning: invalid value encountered in divide\n",
      "  f_statistic = corr_coef_squared / (1 - corr_coef_squared) * deg_of_freedom\n"
     ]
    },
    {
     "name": "stdout",
     "output_type": "stream",
     "text": [
      "Training time [s]: 6.159467200000108\n",
      "MAE train set: 6.6058533852680075\n",
      "MAE test set: 6.79795487475742\n",
      "---------------------------\n",
      "K =  900\n"
     ]
    },
    {
     "name": "stderr",
     "output_type": "stream",
     "text": [
      "C:\\ProgramData\\Anaconda3\\lib\\site-packages\\sklearn\\feature_selection\\_univariate_selection.py:289: RuntimeWarning: divide by zero encountered in divide\n",
      "  correlation_coefficient /= X_norms\n",
      "C:\\ProgramData\\Anaconda3\\lib\\site-packages\\sklearn\\feature_selection\\_univariate_selection.py:358: RuntimeWarning: invalid value encountered in divide\n",
      "  f_statistic = corr_coef_squared / (1 - corr_coef_squared) * deg_of_freedom\n"
     ]
    },
    {
     "name": "stdout",
     "output_type": "stream",
     "text": [
      "Training time [s]: 6.3314353999999184\n",
      "MAE train set: 6.515444474801646\n",
      "MAE test set: 6.71429127172579\n",
      "---------------------------\n",
      "K =  950\n"
     ]
    },
    {
     "name": "stderr",
     "output_type": "stream",
     "text": [
      "C:\\ProgramData\\Anaconda3\\lib\\site-packages\\sklearn\\feature_selection\\_univariate_selection.py:289: RuntimeWarning: divide by zero encountered in divide\n",
      "  correlation_coefficient /= X_norms\n",
      "C:\\ProgramData\\Anaconda3\\lib\\site-packages\\sklearn\\feature_selection\\_univariate_selection.py:358: RuntimeWarning: invalid value encountered in divide\n",
      "  f_statistic = corr_coef_squared / (1 - corr_coef_squared) * deg_of_freedom\n"
     ]
    },
    {
     "name": "stdout",
     "output_type": "stream",
     "text": [
      "Training time [s]: 6.790675000000192\n",
      "MAE train set: 6.510458502883462\n",
      "MAE test set: 6.7217265636711705\n",
      "---------------------------\n",
      "K =  1000\n"
     ]
    },
    {
     "name": "stderr",
     "output_type": "stream",
     "text": [
      "C:\\ProgramData\\Anaconda3\\lib\\site-packages\\sklearn\\feature_selection\\_univariate_selection.py:289: RuntimeWarning: divide by zero encountered in divide\n",
      "  correlation_coefficient /= X_norms\n",
      "C:\\ProgramData\\Anaconda3\\lib\\site-packages\\sklearn\\feature_selection\\_univariate_selection.py:358: RuntimeWarning: invalid value encountered in divide\n",
      "  f_statistic = corr_coef_squared / (1 - corr_coef_squared) * deg_of_freedom\n"
     ]
    },
    {
     "name": "stdout",
     "output_type": "stream",
     "text": [
      "Training time [s]: 7.168594300000223\n",
      "MAE train set: 6.498106214987716\n",
      "MAE test set: 6.721952752867055\n",
      "---------------------------\n",
      "K =  1050\n"
     ]
    },
    {
     "name": "stderr",
     "output_type": "stream",
     "text": [
      "C:\\ProgramData\\Anaconda3\\lib\\site-packages\\sklearn\\feature_selection\\_univariate_selection.py:289: RuntimeWarning: divide by zero encountered in divide\n",
      "  correlation_coefficient /= X_norms\n",
      "C:\\ProgramData\\Anaconda3\\lib\\site-packages\\sklearn\\feature_selection\\_univariate_selection.py:358: RuntimeWarning: invalid value encountered in divide\n",
      "  f_statistic = corr_coef_squared / (1 - corr_coef_squared) * deg_of_freedom\n"
     ]
    },
    {
     "name": "stdout",
     "output_type": "stream",
     "text": [
      "Training time [s]: 7.518386499999906\n",
      "MAE train set: 6.486851125658505\n",
      "MAE test set: 6.725789698200545\n",
      "---------------------------\n",
      "K =  1100\n"
     ]
    },
    {
     "name": "stderr",
     "output_type": "stream",
     "text": [
      "C:\\ProgramData\\Anaconda3\\lib\\site-packages\\sklearn\\feature_selection\\_univariate_selection.py:289: RuntimeWarning: divide by zero encountered in divide\n",
      "  correlation_coefficient /= X_norms\n",
      "C:\\ProgramData\\Anaconda3\\lib\\site-packages\\sklearn\\feature_selection\\_univariate_selection.py:358: RuntimeWarning: invalid value encountered in divide\n",
      "  f_statistic = corr_coef_squared / (1 - corr_coef_squared) * deg_of_freedom\n"
     ]
    },
    {
     "name": "stdout",
     "output_type": "stream",
     "text": [
      "Training time [s]: 8.078241000000162\n",
      "MAE train set: 6.47600448356691\n",
      "MAE test set: 6.735299008766886\n",
      "---------------------------\n",
      "K =  1150\n"
     ]
    },
    {
     "name": "stderr",
     "output_type": "stream",
     "text": [
      "C:\\ProgramData\\Anaconda3\\lib\\site-packages\\sklearn\\feature_selection\\_univariate_selection.py:289: RuntimeWarning: divide by zero encountered in divide\n",
      "  correlation_coefficient /= X_norms\n",
      "C:\\ProgramData\\Anaconda3\\lib\\site-packages\\sklearn\\feature_selection\\_univariate_selection.py:358: RuntimeWarning: invalid value encountered in divide\n",
      "  f_statistic = corr_coef_squared / (1 - corr_coef_squared) * deg_of_freedom\n"
     ]
    },
    {
     "name": "stdout",
     "output_type": "stream",
     "text": [
      "Training time [s]: 8.311358800000107\n",
      "MAE train set: 6.4705714989763585\n",
      "MAE test set: 6.743426263231414\n",
      "---------------------------\n",
      "K =  1200\n"
     ]
    },
    {
     "name": "stderr",
     "output_type": "stream",
     "text": [
      "C:\\ProgramData\\Anaconda3\\lib\\site-packages\\sklearn\\feature_selection\\_univariate_selection.py:289: RuntimeWarning: divide by zero encountered in divide\n",
      "  correlation_coefficient /= X_norms\n",
      "C:\\ProgramData\\Anaconda3\\lib\\site-packages\\sklearn\\feature_selection\\_univariate_selection.py:358: RuntimeWarning: invalid value encountered in divide\n",
      "  f_statistic = corr_coef_squared / (1 - corr_coef_squared) * deg_of_freedom\n"
     ]
    },
    {
     "name": "stdout",
     "output_type": "stream",
     "text": [
      "Training time [s]: 8.665237400000024\n",
      "MAE train set: 6.462983943852434\n",
      "MAE test set: 6.751348050380647\n",
      "---------------------------\n",
      "K =  1250\n"
     ]
    },
    {
     "name": "stderr",
     "output_type": "stream",
     "text": [
      "C:\\ProgramData\\Anaconda3\\lib\\site-packages\\sklearn\\feature_selection\\_univariate_selection.py:289: RuntimeWarning: divide by zero encountered in divide\n",
      "  correlation_coefficient /= X_norms\n",
      "C:\\ProgramData\\Anaconda3\\lib\\site-packages\\sklearn\\feature_selection\\_univariate_selection.py:358: RuntimeWarning: invalid value encountered in divide\n",
      "  f_statistic = corr_coef_squared / (1 - corr_coef_squared) * deg_of_freedom\n"
     ]
    },
    {
     "name": "stdout",
     "output_type": "stream",
     "text": [
      "Training time [s]: 9.009521599999971\n",
      "MAE train set: 6.454006875322515\n",
      "MAE test set: 6.752975810904509\n",
      "---------------------------\n",
      "K =  1300\n"
     ]
    },
    {
     "name": "stderr",
     "output_type": "stream",
     "text": [
      "C:\\ProgramData\\Anaconda3\\lib\\site-packages\\sklearn\\feature_selection\\_univariate_selection.py:289: RuntimeWarning: divide by zero encountered in divide\n",
      "  correlation_coefficient /= X_norms\n",
      "C:\\ProgramData\\Anaconda3\\lib\\site-packages\\sklearn\\feature_selection\\_univariate_selection.py:358: RuntimeWarning: invalid value encountered in divide\n",
      "  f_statistic = corr_coef_squared / (1 - corr_coef_squared) * deg_of_freedom\n"
     ]
    },
    {
     "name": "stdout",
     "output_type": "stream",
     "text": [
      "Training time [s]: 9.608280399999785\n",
      "MAE train set: 6.445233638481457\n",
      "MAE test set: 6.7669651086389875\n",
      "---------------------------\n",
      "K =  1350\n"
     ]
    },
    {
     "name": "stderr",
     "output_type": "stream",
     "text": [
      "C:\\ProgramData\\Anaconda3\\lib\\site-packages\\sklearn\\feature_selection\\_univariate_selection.py:289: RuntimeWarning: divide by zero encountered in divide\n",
      "  correlation_coefficient /= X_norms\n",
      "C:\\ProgramData\\Anaconda3\\lib\\site-packages\\sklearn\\feature_selection\\_univariate_selection.py:358: RuntimeWarning: invalid value encountered in divide\n",
      "  f_statistic = corr_coef_squared / (1 - corr_coef_squared) * deg_of_freedom\n"
     ]
    },
    {
     "name": "stdout",
     "output_type": "stream",
     "text": [
      "Training time [s]: 9.989225900000292\n",
      "MAE train set: 6.442763992200755\n",
      "MAE test set: 6.769060550171015\n",
      "---------------------------\n",
      "K =  1400\n"
     ]
    },
    {
     "name": "stderr",
     "output_type": "stream",
     "text": [
      "C:\\ProgramData\\Anaconda3\\lib\\site-packages\\sklearn\\feature_selection\\_univariate_selection.py:289: RuntimeWarning: divide by zero encountered in divide\n",
      "  correlation_coefficient /= X_norms\n",
      "C:\\ProgramData\\Anaconda3\\lib\\site-packages\\sklearn\\feature_selection\\_univariate_selection.py:358: RuntimeWarning: invalid value encountered in divide\n",
      "  f_statistic = corr_coef_squared / (1 - corr_coef_squared) * deg_of_freedom\n"
     ]
    },
    {
     "name": "stdout",
     "output_type": "stream",
     "text": [
      "Training time [s]: 10.587732700000288\n",
      "MAE train set: 6.437448958718007\n",
      "MAE test set: 6.779730426251106\n",
      "---------------------------\n",
      "K =  1450\n"
     ]
    },
    {
     "name": "stderr",
     "output_type": "stream",
     "text": [
      "C:\\ProgramData\\Anaconda3\\lib\\site-packages\\sklearn\\feature_selection\\_univariate_selection.py:289: RuntimeWarning: divide by zero encountered in divide\n",
      "  correlation_coefficient /= X_norms\n",
      "C:\\ProgramData\\Anaconda3\\lib\\site-packages\\sklearn\\feature_selection\\_univariate_selection.py:358: RuntimeWarning: invalid value encountered in divide\n",
      "  f_statistic = corr_coef_squared / (1 - corr_coef_squared) * deg_of_freedom\n"
     ]
    },
    {
     "name": "stdout",
     "output_type": "stream",
     "text": [
      "Training time [s]: 10.979970700000194\n",
      "MAE train set: 6.42799841960478\n",
      "MAE test set: 6.78606681098744\n",
      "---------------------------\n",
      "K =  1500\n"
     ]
    },
    {
     "name": "stderr",
     "output_type": "stream",
     "text": [
      "C:\\ProgramData\\Anaconda3\\lib\\site-packages\\sklearn\\feature_selection\\_univariate_selection.py:289: RuntimeWarning: divide by zero encountered in divide\n",
      "  correlation_coefficient /= X_norms\n",
      "C:\\ProgramData\\Anaconda3\\lib\\site-packages\\sklearn\\feature_selection\\_univariate_selection.py:358: RuntimeWarning: invalid value encountered in divide\n",
      "  f_statistic = corr_coef_squared / (1 - corr_coef_squared) * deg_of_freedom\n"
     ]
    },
    {
     "name": "stdout",
     "output_type": "stream",
     "text": [
      "Training time [s]: 11.7335664000002\n",
      "MAE train set: 6.419085719153918\n",
      "MAE test set: 6.787762538467808\n",
      "---------------------------\n",
      "K =  1550\n"
     ]
    },
    {
     "name": "stderr",
     "output_type": "stream",
     "text": [
      "C:\\ProgramData\\Anaconda3\\lib\\site-packages\\sklearn\\feature_selection\\_univariate_selection.py:289: RuntimeWarning: divide by zero encountered in divide\n",
      "  correlation_coefficient /= X_norms\n",
      "C:\\ProgramData\\Anaconda3\\lib\\site-packages\\sklearn\\feature_selection\\_univariate_selection.py:358: RuntimeWarning: invalid value encountered in divide\n",
      "  f_statistic = corr_coef_squared / (1 - corr_coef_squared) * deg_of_freedom\n"
     ]
    },
    {
     "name": "stdout",
     "output_type": "stream",
     "text": [
      "Training time [s]: 12.105785599999763\n",
      "MAE train set: 6.4076055811409764\n",
      "MAE test set: 6.7934029797116295\n",
      "---------------------------\n",
      "K =  1600\n"
     ]
    },
    {
     "name": "stderr",
     "output_type": "stream",
     "text": [
      "C:\\ProgramData\\Anaconda3\\lib\\site-packages\\sklearn\\feature_selection\\_univariate_selection.py:289: RuntimeWarning: divide by zero encountered in divide\n",
      "  correlation_coefficient /= X_norms\n",
      "C:\\ProgramData\\Anaconda3\\lib\\site-packages\\sklearn\\feature_selection\\_univariate_selection.py:358: RuntimeWarning: invalid value encountered in divide\n",
      "  f_statistic = corr_coef_squared / (1 - corr_coef_squared) * deg_of_freedom\n"
     ]
    },
    {
     "name": "stdout",
     "output_type": "stream",
     "text": [
      "Training time [s]: 12.721425700000054\n",
      "MAE train set: 6.4024414957006375\n",
      "MAE test set: 6.805887687493803\n",
      "---------------------------\n",
      "K =  1650\n"
     ]
    },
    {
     "name": "stderr",
     "output_type": "stream",
     "text": [
      "C:\\ProgramData\\Anaconda3\\lib\\site-packages\\sklearn\\feature_selection\\_univariate_selection.py:289: RuntimeWarning: divide by zero encountered in divide\n",
      "  correlation_coefficient /= X_norms\n",
      "C:\\ProgramData\\Anaconda3\\lib\\site-packages\\sklearn\\feature_selection\\_univariate_selection.py:358: RuntimeWarning: invalid value encountered in divide\n",
      "  f_statistic = corr_coef_squared / (1 - corr_coef_squared) * deg_of_freedom\n"
     ]
    },
    {
     "name": "stdout",
     "output_type": "stream",
     "text": [
      "Training time [s]: 13.215656300000319\n",
      "MAE train set: 6.395002821781632\n",
      "MAE test set: 6.806745634551235\n",
      "---------------------------\n",
      "K =  1700\n"
     ]
    },
    {
     "name": "stderr",
     "output_type": "stream",
     "text": [
      "C:\\ProgramData\\Anaconda3\\lib\\site-packages\\sklearn\\feature_selection\\_univariate_selection.py:289: RuntimeWarning: divide by zero encountered in divide\n",
      "  correlation_coefficient /= X_norms\n",
      "C:\\ProgramData\\Anaconda3\\lib\\site-packages\\sklearn\\feature_selection\\_univariate_selection.py:358: RuntimeWarning: invalid value encountered in divide\n",
      "  f_statistic = corr_coef_squared / (1 - corr_coef_squared) * deg_of_freedom\n"
     ]
    },
    {
     "name": "stdout",
     "output_type": "stream",
     "text": [
      "Training time [s]: 13.760386299999936\n",
      "MAE train set: 6.391446460658092\n",
      "MAE test set: 6.8087659438435555\n",
      "---------------------------\n",
      "K =  1750\n"
     ]
    },
    {
     "name": "stderr",
     "output_type": "stream",
     "text": [
      "C:\\ProgramData\\Anaconda3\\lib\\site-packages\\sklearn\\feature_selection\\_univariate_selection.py:289: RuntimeWarning: divide by zero encountered in divide\n",
      "  correlation_coefficient /= X_norms\n",
      "C:\\ProgramData\\Anaconda3\\lib\\site-packages\\sklearn\\feature_selection\\_univariate_selection.py:358: RuntimeWarning: invalid value encountered in divide\n",
      "  f_statistic = corr_coef_squared / (1 - corr_coef_squared) * deg_of_freedom\n"
     ]
    },
    {
     "name": "stdout",
     "output_type": "stream",
     "text": [
      "Training time [s]: 15.499239899999793\n",
      "MAE train set: 6.388281590725104\n",
      "MAE test set: 6.8161841893149635\n",
      "---------------------------\n",
      "K =  1800\n"
     ]
    },
    {
     "name": "stderr",
     "output_type": "stream",
     "text": [
      "C:\\ProgramData\\Anaconda3\\lib\\site-packages\\sklearn\\feature_selection\\_univariate_selection.py:289: RuntimeWarning: divide by zero encountered in divide\n",
      "  correlation_coefficient /= X_norms\n",
      "C:\\ProgramData\\Anaconda3\\lib\\site-packages\\sklearn\\feature_selection\\_univariate_selection.py:358: RuntimeWarning: invalid value encountered in divide\n",
      "  f_statistic = corr_coef_squared / (1 - corr_coef_squared) * deg_of_freedom\n"
     ]
    },
    {
     "name": "stdout",
     "output_type": "stream",
     "text": [
      "Training time [s]: 15.234756899999866\n",
      "MAE train set: 6.3843667538488615\n",
      "MAE test set: 6.837929960738776\n",
      "---------------------------\n",
      "K =  1850\n"
     ]
    },
    {
     "name": "stderr",
     "output_type": "stream",
     "text": [
      "C:\\ProgramData\\Anaconda3\\lib\\site-packages\\sklearn\\feature_selection\\_univariate_selection.py:289: RuntimeWarning: divide by zero encountered in divide\n",
      "  correlation_coefficient /= X_norms\n",
      "C:\\ProgramData\\Anaconda3\\lib\\site-packages\\sklearn\\feature_selection\\_univariate_selection.py:358: RuntimeWarning: invalid value encountered in divide\n",
      "  f_statistic = corr_coef_squared / (1 - corr_coef_squared) * deg_of_freedom\n"
     ]
    },
    {
     "name": "stdout",
     "output_type": "stream",
     "text": [
      "Training time [s]: 15.889424099999815\n",
      "MAE train set: 6.3765439583842705\n",
      "MAE test set: 6.851422315569524\n",
      "---------------------------\n",
      "K =  1900\n"
     ]
    },
    {
     "name": "stderr",
     "output_type": "stream",
     "text": [
      "C:\\ProgramData\\Anaconda3\\lib\\site-packages\\sklearn\\feature_selection\\_univariate_selection.py:289: RuntimeWarning: divide by zero encountered in divide\n",
      "  correlation_coefficient /= X_norms\n",
      "C:\\ProgramData\\Anaconda3\\lib\\site-packages\\sklearn\\feature_selection\\_univariate_selection.py:358: RuntimeWarning: invalid value encountered in divide\n",
      "  f_statistic = corr_coef_squared / (1 - corr_coef_squared) * deg_of_freedom\n"
     ]
    },
    {
     "name": "stdout",
     "output_type": "stream",
     "text": [
      "Training time [s]: 16.710885299999973\n",
      "MAE train set: 6.370781926735926\n",
      "MAE test set: 6.84987589062961\n",
      "---------------------------\n",
      "K =  1950\n"
     ]
    },
    {
     "name": "stderr",
     "output_type": "stream",
     "text": [
      "C:\\ProgramData\\Anaconda3\\lib\\site-packages\\sklearn\\feature_selection\\_univariate_selection.py:289: RuntimeWarning: divide by zero encountered in divide\n",
      "  correlation_coefficient /= X_norms\n",
      "C:\\ProgramData\\Anaconda3\\lib\\site-packages\\sklearn\\feature_selection\\_univariate_selection.py:358: RuntimeWarning: invalid value encountered in divide\n",
      "  f_statistic = corr_coef_squared / (1 - corr_coef_squared) * deg_of_freedom\n"
     ]
    },
    {
     "name": "stdout",
     "output_type": "stream",
     "text": [
      "Training time [s]: 17.415388399999756\n",
      "MAE train set: 6.365385658825934\n",
      "MAE test set: 6.858425989954085\n",
      "---------------------------\n",
      "K =  2000\n"
     ]
    },
    {
     "name": "stderr",
     "output_type": "stream",
     "text": [
      "C:\\ProgramData\\Anaconda3\\lib\\site-packages\\sklearn\\feature_selection\\_univariate_selection.py:289: RuntimeWarning: divide by zero encountered in divide\n",
      "  correlation_coefficient /= X_norms\n",
      "C:\\ProgramData\\Anaconda3\\lib\\site-packages\\sklearn\\feature_selection\\_univariate_selection.py:358: RuntimeWarning: invalid value encountered in divide\n",
      "  f_statistic = corr_coef_squared / (1 - corr_coef_squared) * deg_of_freedom\n"
     ]
    },
    {
     "name": "stdout",
     "output_type": "stream",
     "text": [
      "Training time [s]: 18.053237299999637\n",
      "MAE train set: 6.357402971986152\n",
      "MAE test set: 6.8670957007667885\n"
     ]
    }
   ],
   "source": [
    "# training and validating \n",
    "for k_feat in range(50, 2001, 50): \n",
    "    gc.collect() \n",
    "    print('---------------------------') \n",
    "    print(\"K = \", k_feat) \n",
    "    poly = PolynomialFeatures() \n",
    "    regr = LinearRegression() \n",
    "    f_sel = SelectKBest(feature_selection.f_regression, k=k_feat) \n",
    "    pipeline = Pipeline([('poly', poly), ('f_sel', f_sel), ('regr', regr)]) \n",
    "    tic = time.perf_counter() \n",
    "    pipeline.fit(X_train.iloc[train_idx], y_train[train_idx]) \n",
    "    print(\"Training time [s]:\", time.perf_counter()-tic) \n",
    "    mae_train = mean_absolute_error(y_train[train_idx], pipeline.predict(X_train.iloc[train_idx])) \n",
    "    mae_test = mean_absolute_error(y_test, pipeline.predict(np.nan_to_num(X_test))) \n",
    "    print(\"MAE train set:\", mae_train) \n",
    "    print(\"MAE test set:\", mae_test) \n",
    "    to_plot.append((k_feat, mae_train, mae_test)) "
   ]
  },
  {
   "cell_type": "code",
   "execution_count": 90,
   "id": "5e493154",
   "metadata": {},
   "outputs": [
    {
     "data": {
      "image/png": "[encoded data removed]",
      "text/plain": [
       "<Figure size 432x288 with 1 Axes>"
      ]
     },
     "metadata": {
      "needs_background": "light"
     },
     "output_type": "display_data"
    }
   ],
   "source": [
    "# plotting results \n",
    "plt.plot([x[0] for x in to_plot], [x[1] for x in to_plot], 'b', label='Train') \n",
    "plt.plot([x[0] for x in to_plot], [x[2] for x in to_plot], 'r--', label='Test') \n",
    "plt.xlabel('Num. features selected')\n",
    "plt.ylabel('MAE train/test') \n",
    "plt.legend(loc=0) \n",
    "plt.show()"
   ]
  },
  {
   "cell_type": "code",
   "execution_count": 91,
   "id": "57f52052",
   "metadata": {},
   "outputs": [],
   "source": [
    "# 900"
   ]
  },
  {
   "cell_type": "markdown",
   "id": "b1949c89",
   "metadata": {},
   "source": [
    "# Questão 5 - \n",
    "Por que é importante normalizar os dados em uma regressão linear.?"
   ]
  },
  {
   "cell_type": "code",
   "execution_count": 93,
   "id": "378517eb",
   "metadata": {},
   "outputs": [],
   "source": [
    "# Ao normalizar os dados, a questão de ordem de grandeza das variáveis não influenciam o modelo."
   ]
  },
  {
   "cell_type": "markdown",
   "id": "97b381d2",
   "metadata": {},
   "source": [
    "# Questão 6 \n",
    "- Em projetos de dados, é recomendável validar os dados e investigar de fato o modelo conseguirá atender as expectativas da solução proposta. Quais dos itens/procedimentos/técnicas abaixo ajudam na melhora desse processo da acurácia de modelos de regressão NÃO linear ?"
   ]
  },
  {
   "cell_type": "code",
   "execution_count": 94,
   "id": "0c4f31a2",
   "metadata": {},
   "outputs": [],
   "source": [
    "# Transformações de variáveis, Normalização e Feature engineering."
   ]
  },
  {
   "cell_type": "markdown",
   "id": "b01ace6b",
   "metadata": {},
   "source": [
    "# Questão 7 \n",
    "Em modelos não lineares os dados são ajustados por diversas aproximações, esses tipos de modelos ajudam na tomada de decisão em alguns casos. Como podemos resolver um problema de regressão não linear? Considere as afirmações a seguir e responda: Como podemos resolver um problema de regressão não linear? \\\n",
    "    I - Com a otimização dos hiperparâmetros de um modelo Regressão Linear da scikit-learn \\\n",
    "    II - Com um modelo Regressão Linear junto a combinações não lineares das features do dataset \\\n",
    "    III - Aplicando somente um modelo não linear \\\n",
    "    IV - Com uma seleção de features adequada antes de passar por um modelo Ridge com regularização \\\n",
    "As afirmações corretas são:"
   ]
  },
  {
   "cell_type": "code",
   "execution_count": 95,
   "id": "cd54b35e",
   "metadata": {},
   "outputs": [],
   "source": [
    "#II e IV"
   ]
  },
  {
   "cell_type": "code",
   "execution_count": null,
   "id": "b59df0fb",
   "metadata": {},
   "outputs": [],
   "source": []
  },
  {
   "cell_type": "code",
   "execution_count": null,
   "id": "fe6f9f40",
   "metadata": {},
   "outputs": [],
   "source": []
  },
  {
   "cell_type": "code",
   "execution_count": null,
   "id": "c2a90120",
   "metadata": {},
   "outputs": [],
   "source": []
  },
  {
   "cell_type": "code",
   "execution_count": null,
   "id": "13ec7468",
   "metadata": {},
   "outputs": [],
   "source": []
  },
  {
   "cell_type": "code",
   "execution_count": null,
   "id": "7db02158",
   "metadata": {},
   "outputs": [],
   "source": []
  },
  {
   "cell_type": "code",
   "execution_count": null,
   "id": "5c6cbe0f",
   "metadata": {},
   "outputs": [],
   "source": []
  },
  {
   "cell_type": "code",
   "execution_count": null,
   "id": "567eb3ad",
   "metadata": {},
   "outputs": [],
   "source": []
  },
  {
   "cell_type": "code",
   "execution_count": null,
   "id": "6dbbfe5b",
   "metadata": {},
   "outputs": [],
   "source": []
  }
 ],
 "metadata": {
  "kernelspec": {
   "display_name": "Python 3 (ipykernel)",
   "language": "python",
   "name": "python3"
  },
  "language_info": {
   "codemirror_mode": {
    "name": "ipython",
    "version": 3
   },
   "file_extension": ".py",
   "mimetype": "text/x-python",
   "name": "python",
   "nbconvert_exporter": "python",
   "pygments_lexer": "ipython3",
   "version": "3.9.12"
  }
 },
 "nbformat": 4,
 "nbformat_minor": 5
}
